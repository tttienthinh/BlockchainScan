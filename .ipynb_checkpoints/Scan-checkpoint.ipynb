{
 "cells": [
  {
   "cell_type": "code",
   "execution_count": 35,
   "metadata": {},
   "outputs": [],
   "source": [
    "import json\n",
    "env = json.load(open(\"env.json\"))"
   ]
  },
  {
   "cell_type": "code",
   "execution_count": 10,
   "metadata": {},
   "outputs": [],
   "source": [
    "import requests"
   ]
  },
  {
   "cell_type": "code",
   "execution_count": null,
   "metadata": {},
   "outputs": [],
   "source": [
    "tokenList = [\n",
    "    {\n",
    "        \"chain\":\"BSC\",\n",
    "        \"token\":\"TAC\",\n",
    "        \"contract\":\"0x6adbaa7c9ed1f29d647e37b1970e32bb41fb18ab\"\n",
    "        \"decimal\":9\n",
    "    },\n",
    "    {\n",
    "        \"chain\":\"BSC\",\n",
    "        \"token\":\"XEUS\",\n",
    "        \"contract\":\"0x52eb4a4af85bf7921813a12b7cc9ec02b5e94d6e\"\n",
    "        \"decimal\":9\n",
    "    },\n",
    "    {\n",
    "        \"chain\":\"FTM\",\n",
    "        \"token\":\"SPA\",\n",
    "        \"contract\":\"0x8e2549225E21B1Da105563D419d5689b80343E01\"\n",
    "        \"decimal\":9\n",
    "    },\n",
    "    {\n",
    "        \"chain\":\"FTM\",\n",
    "        \"token\":\"HEC\",\n",
    "        \"contract\":\"0x75bdef24285013387a47775828bec90b91ca9a5f\"\n",
    "        \"decimal\":9\n",
    "    },\n",
    "    {\n",
    "        \"chain\":\"FTM\",\n",
    "        \"token\":\"EXOD\",\n",
    "        \"contract\":\"0x8de250c65636ef02a75e4999890c91cecd38d03d\"\n",
    "        \"decimal\":9\n",
    "    },\n",
    "    {\n",
    "        \"chain\":\"FTM\",\n",
    "        \"token\":\"EXOD\",\n",
    "        \"contract\":\"0x8de250c65636ef02a75e4999890c91cecd38d03d\"\n",
    "        \"decimal\":9\n",
    "    },\n",
    "    {\n",
    "        \"chain\":\"FTM\",\n",
    "        \"token\":\"EXOD\",\n",
    "        \"contract\":\"0x8de250c65636ef02a75e4999890c91cecd38d03d\"\n",
    "        \"decimal\":9\n",
    "    },\n",
    "]"
   ]
  },
  {
   "cell_type": "code",
   "execution_count": 29,
   "metadata": {},
   "outputs": [],
   "source": [
    "dico = {\"module\":\"account\",\n",
    "\"action\":\"tokenbalance\",\n",
    "\"contractaddress\":\"0x0e09fabb73bd3ade0a17ecc321fd13a19e81ce82\",\n",
    "\"address\":\"0x97A0bD28796621FAa6d168ee414B814b307517FF\",\n",
    "\"tag\":\"latest\",\n",
    "\"apikey\":\"Z55Z7KCFXM1Q8PA9SNENK8B31E3Z4MNREZ\"}"
   ]
  },
  {
   "cell_type": "code",
   "execution_count": 36,
   "metadata": {},
   "outputs": [
    {
     "ename": "SyntaxError",
     "evalue": "unmatched ')' (<ipython-input-36-0f5815f9ac5e>, line 16)",
     "output_type": "error",
     "traceback": [
      "\u001b[0;36m  File \u001b[0;32m\"<ipython-input-36-0f5815f9ac5e>\"\u001b[0;36m, line \u001b[0;32m16\u001b[0m\n\u001b[0;31m    prd   ()[\"result\"])/(10**token[\"decimal\"]))\u001b[0m\n\u001b[0m                      ^\u001b[0m\n\u001b[0;31mSyntaxError\u001b[0m\u001b[0;31m:\u001b[0m unmatched ')'\n"
     ]
    }
   ],
   "source": [
    "for token in tokenList:\n",
    "    if token[\"chain\"] == \"BSC\":\n",
    "        url = \"https://api.bscscan.com/api\"\n",
    "        api = env[\"BSCscan\"]\n",
    "    else:\n",
    "        url = \"https://api.ftmscan.com/api\"\n",
    "        api = env[\"FTMscan\"]\n",
    "        \n",
    "    dico = {\"module\":\"account\",\n",
    "        \"action\":\"tokenbalance\",\n",
    "        \"contractaddress\":token[\"contract\"],\n",
    "        \"address\":\"0x97A0bD28796621FAa6d168ee414B814b307517FF\",\n",
    "        \"tag\":\"latest\",\n",
    "        \"apikey\":api}\n",
    "    r = requests.get(url, params=dico)\n",
    "    prd   ([\"result\"])/(10**token[\"decimal\"]))\n",
    "    \n",
    "smqdfkjfl sfhds hflkquef"
   ]
  },
  {
   "cell_type": "code",
   "execution_count": 8,
   "metadata": {},
   "outputs": [
    {
     "ename": "AttributeError",
     "evalue": "'AsyncClient' object has no attribute 'get_bnb_balance'",
     "output_type": "error",
     "traceback": [
      "\u001b[0;31m---------------------------------------------------------------------------\u001b[0m",
      "\u001b[0;31mAttributeError\u001b[0m                            Traceback (most recent call last)",
      "\u001b[0;32m<ipython-input-8-44c048a1056f>\u001b[0m in \u001b[0;36m<module>\u001b[0;34m\u001b[0m\n\u001b[0;32m----> 1\u001b[0;31m \u001b[0mbsc\u001b[0m\u001b[0;34m.\u001b[0m\u001b[0mget_bnb_balance\u001b[0m\u001b[0;34m(\u001b[0m\u001b[0maddress\u001b[0m\u001b[0;34m=\u001b[0m\u001b[0;34m\"0x0000000000000000000000000000000000001004\"\u001b[0m\u001b[0;34m)\u001b[0m\u001b[0;34m\u001b[0m\u001b[0;34m\u001b[0m\u001b[0m\n\u001b[0m",
      "\u001b[0;31mAttributeError\u001b[0m: 'AsyncClient' object has no attribute 'get_bnb_balance'"
     ]
    }
   ],
   "source": [
    "bsc.get_bnb_balance(address=\"0x0000000000000000000000000000000000001004\")"
   ]
  },
  {
   "cell_type": "code",
   "execution_count": 20,
   "metadata": {},
   "outputs": [
    {
     "data": {
      "text/plain": [
       "0.10294748861046013"
      ]
     },
     "execution_count": 20,
     "metadata": {},
     "output_type": "execute_result"
    }
   ],
   "source": [
    "int(r.json()[\"result\"])/(10**18)"
   ]
  },
  {
   "cell_type": "code",
   "execution_count": null,
   "metadata": {},
   "outputs": [],
   "source": [
    "GSU9A8RFVK4NXZ44XQ5Z237E69F96BY8BSb"
   ]
  },
  {
   "cell_type": "code",
   "execution_count": 27,
   "metadata": {},
   "outputs": [],
   "source": [
    "r = requests.get(\"https://api.ftmscan.com/api?module=account&action=tokenbalance&contractaddress=0x8de250c65636ef02a75e4999890c91cecd38d03d&address=0x97A0bD28796621FAa6d168ee414B814b307517FF&tag=latest&apikey=GSU9A8RFVK4NXZ44XQ5Z237E69F96BY8BSb\")"
   ]
  },
  {
   "cell_type": "code",
   "execution_count": 28,
   "metadata": {},
   "outputs": [
    {
     "data": {
      "text/plain": [
       "{'status': '1', 'message': 'OK', 'result': '7080158'}"
      ]
     },
     "execution_count": 28,
     "metadata": {},
     "output_type": "execute_result"
    }
   ],
   "source": [
    "r.json()"
   ]
  },
  {
   "cell_type": "code",
   "execution_count": null,
   "metadata": {},
   "outputs": [],
   "source": [
    "tqeqdfsfsdfqsdfsqdfssqdfsdwgsdfsf"
   ]
  }
 ],
 "metadata": {
  "kernelspec": {
   "display_name": "Scientist",
   "language": "python",
   "name": "scientist"
  },
  "language_info": {
   "codemirror_mode": {
    "name": "ipython",
    "version": 3
   },
   "file_extension": ".py",
   "mimetype": "text/x-python",
   "name": "python",
   "nbconvert_exporter": "python",
   "pygments_lexer": "ipython3",
   "version": "3.8.10"
  },
  "toc": {
   "base_numbering": 1,
   "nav_menu": {},
   "number_sections": true,
   "sideBar": true,
   "skip_h1_title": true,
   "title_cell": "Table of Contents",
   "title_sidebar": "Contents",
   "toc_cell": false,
   "toc_position": {},
   "toc_section_display": true,
   "toc_window_display": false
  },
  "varInspector": {
   "cols": {
    "lenName": 16,
    "lenType": 16,
    "lenVar": 40
   },
   "kernels_config": {
    "python": {
     "delete_cmd_postfix": "",
     "delete_cmd_prefix": "del ",
     "library": "var_list.py",
     "varRefreshCmd": "print(var_dic_list())"
    },
    "r": {
     "delete_cmd_postfix": ") ",
     "delete_cmd_prefix": "rm(",
     "library": "var_list.r",
     "varRefreshCmd": "cat(var_dic_list()) "
    }
   },
   "types_to_exclude": [
    "module",
    "function",
    "builtin_function_or_method",
    "instance",
    "_Feature"
   ],
   "window_display": false
  }
 },
 "nbformat": 4,
 "nbformat_minor": 4
}
