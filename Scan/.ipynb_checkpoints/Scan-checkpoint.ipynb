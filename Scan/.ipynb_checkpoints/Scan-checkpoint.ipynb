{
 "cells": [
  {
   "cell_type": "code",
   "execution_count": 1,
   "metadata": {},
   "outputs": [
    {
     "data": {
      "text/plain": [
       "'\\nenv.json\\n[\\n    \"BSCscan\": bscscan apikey,\\n    \"FTMscan\": ftmscan apikey,\\n    \"SNOWtrace\": snowtrace apikey\\n]\\n'"
      ]
     },
     "execution_count": 1,
     "metadata": {},
     "output_type": "execute_result"
    }
   ],
   "source": [
    "import requests\n",
    "import json\n",
    "env = json.load(open(\"env.json\"))\n",
    "\"\"\"\n",
    "env.json\n",
    "[\n",
    "    \"BSCscan\": bscscan apikey,\n",
    "    \"FTMscan\": ftmscan apikey,\n",
    "    \"SNOWtrace\": snowtrace apikey\n",
    "]\n",
    "\"\"\""
   ]
  },
  {
   "cell_type": "code",
   "execution_count": 2,
   "metadata": {},
   "outputs": [],
   "source": [
    "tokenList = [\n",
    "    {\n",
    "        \"chain\":\"BSC\",\n",
    "        \"token\":\"TAC\",\n",
    "        \"contract\":\"0x6adbaa7c9ed1f29d647e37b1970e32bb41fb18ab\",\n",
    "        \"decimal\":9\n",
    "    },\n",
    "    {\n",
    "        \"chain\":\"BSC\",\n",
    "        \"token\":\"XEUS\",\n",
    "        \"contract\":\"0x52eb4a4af85bf7921813a12b7cc9ec02b5e94d6e\",\n",
    "        \"decimal\":9\n",
    "    },\n",
    "    {\n",
    "        \"chain\":\"FTM\",\n",
    "        \"token\":\"SPA\",\n",
    "        \"contract\":\"0x8e2549225E21B1Da105563D419d5689b80343E01\",\n",
    "        \"decimal\":9\n",
    "    },\n",
    "    {\n",
    "        \"chain\":\"FTM\",\n",
    "        \"token\":\"HEC\",\n",
    "        \"contract\":\"0x75bdef24285013387a47775828bec90b91ca9a5f\",\n",
    "        \"decimal\":9\n",
    "    },\n",
    "    {\n",
    "        \"chain\":\"FTM\",\n",
    "        \"token\":\"EXOD\",\n",
    "        \"contract\":\"0x8de250c65636ef02a75e4999890c91cecd38d03d\",\n",
    "        \"decimal\":9\n",
    "    },\n",
    "    {\n",
    "        \"chain\":\"AVAX\",\n",
    "        \"token\":\"TIME\",\n",
    "        \"contract\":\"0x136acd46c134e8269052c62a67042d6bdedde3c9\",\n",
    "        \"decimal\":9\n",
    "    },\n",
    "]"
   ]
  },
  {
   "cell_type": "code",
   "execution_count": 4,
   "metadata": {},
   "outputs": [
    {
     "name": "stdout",
     "output_type": "stream",
     "text": [
      "TAC : 0.13678155\n",
      "XEUS : 0.065450116\n",
      "SPA : 0.238396128\n",
      "HEC : 0.118610673\n",
      "EXOD : 0.007380446\n",
      "TIME : 0.00932572\n"
     ]
    }
   ],
   "source": [
    "for token in tokenList:\n",
    "    if token[\"chain\"] == \"BSC\":\n",
    "        url = \"https://api.bscscan.com/api\"\n",
    "        api = env[\"BSCscan\"]\n",
    "    elif token[\"chain\"] == \"FTM\":\n",
    "        url = \"https://api.ftmscan.com/api\"\n",
    "        api = env[\"FTMscan\"]\n",
    "    else:\n",
    "        url = \"https://api.snowtrace.io/api\"\n",
    "        api = env[\"SNOWtrace\"]\n",
    "        \n",
    "    dico = {\"module\":\"account\",\n",
    "        \"action\":\"tokenbalance\",\n",
    "        \"contractaddress\":token[\"contract\"],\n",
    "        \"address\":\"0x97A0bD28796621FAa6d168ee414B814b307517FF\",\n",
    "        \"tag\":\"latest\",\n",
    "        \"apikey\":api}\n",
    "    r = requests.get(url, params=dico)\n",
    "    print(f\"\"\"{token[\"token\"]} : {int(r.json()[\"result\"])/(10**token[\"decimal\"])}\"\"\")"
   ]
  },
  {
   "cell_type": "code",
   "execution_count": null,
   "metadata": {},
   "outputs": [],
   "source": []
  }
 ],
 "metadata": {
  "kernelspec": {
   "display_name": "Scientist",
   "language": "python",
   "name": "scientist"
  },
  "language_info": {
   "codemirror_mode": {
    "name": "ipython",
    "version": 3
   },
   "file_extension": ".py",
   "mimetype": "text/x-python",
   "name": "python",
   "nbconvert_exporter": "python",
   "pygments_lexer": "ipython3",
   "version": "3.8.10"
  },
  "toc": {
   "base_numbering": 1,
   "nav_menu": {},
   "number_sections": true,
   "sideBar": true,
   "skip_h1_title": true,
   "title_cell": "Table of Contents",
   "title_sidebar": "Contents",
   "toc_cell": false,
   "toc_position": {},
   "toc_section_display": true,
   "toc_window_display": false
  },
  "varInspector": {
   "cols": {
    "lenName": 16,
    "lenType": 16,
    "lenVar": 40
   },
   "kernels_config": {
    "python": {
     "delete_cmd_postfix": "",
     "delete_cmd_prefix": "del ",
     "library": "var_list.py",
     "varRefreshCmd": "print(var_dic_list())"
    },
    "r": {
     "delete_cmd_postfix": ") ",
     "delete_cmd_prefix": "rm(",
     "library": "var_list.r",
     "varRefreshCmd": "cat(var_dic_list()) "
    }
   },
   "types_to_exclude": [
    "module",
    "function",
    "builtin_function_or_method",
    "instance",
    "_Feature"
   ],
   "window_display": false
  }
 },
 "nbformat": 4,
 "nbformat_minor": 4
}
