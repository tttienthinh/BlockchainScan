{
 "cells": [
  {
   "cell_type": "code",
   "execution_count": 10,
   "metadata": {},
   "outputs": [],
   "source": [
    "import requests, json, time\n",
    "env = json.load(open(\"env.json\"))\n",
    "\"\"\"\n",
    "env.json\n",
    "[\n",
    "    \"BSCscan\": bscscan apikey,\n",
    "    \"FTMscan\": ftmscan apikey,\n",
    "    \"SNOWtrace\": snowtrace apikey\n",
    "]\n",
    "\"\"\"\n",
    "proxy = False\n",
    "proxies = {\n",
    "    \"http\":\"192.168.122.6:3128\",\n",
    "    \"https\":\"192.168.122.6:3128\",\n",
    "    \"ftp\":\"192.168.122.6:3128\"\n",
    "}"
   ]
  },
  {
   "cell_type": "code",
   "execution_count": 34,
   "metadata": {},
   "outputs": [],
   "source": [
    "tokenList = [\n",
    "    {\n",
    "        \"chain\":\"BSC\",\n",
    "        \"token\":\"TAC\",\n",
    "        \"contract\":\"0x6adbaa7c9ed1f29d647e37b1970e32bb41fb18ab\",\n",
    "        \"decimal\":9,\n",
    "        \"ids\":\"taichi\"\n",
    "    },\n",
    "    {\n",
    "        \"chain\":\"BSC\",\n",
    "        \"token\":\"XEUS\",\n",
    "        \"contract\":\"0x52eb4a4af85bf7921813a12b7cc9ec02b5e94d6e\",\n",
    "        \"decimal\":9,\n",
    "        \"ids\":\"xeus\"\n",
    "    },\n",
    "    {\n",
    "        \"chain\":\"FTM\",\n",
    "        \"token\":\"SPA\",\n",
    "        \"contract\":\"0x8e2549225E21B1Da105563D419d5689b80343E01\",\n",
    "        \"decimal\":9,\n",
    "        \"ids\":\"spartacus\"\n",
    "    },\n",
    "    {\n",
    "        \"chain\":\"FTM\",\n",
    "        \"token\":\"HEC\",\n",
    "        \"contract\":\"0x75bdef24285013387a47775828bec90b91ca9a5f\",\n",
    "        \"decimal\":9,\n",
    "        \"ids\":\"hector-dao\"\n",
    "    },\n",
    "    {\n",
    "        \"chain\":\"FTM\",\n",
    "        \"token\":\"EXOD\",\n",
    "        \"contract\":\"0x8de250c65636ef02a75e4999890c91cecd38d03d\",\n",
    "        \"decimal\":9,\n",
    "        \"ids\":\"exodia\"\n",
    "    },\n",
    "    {\n",
    "        \"chain\":\"AVAX\",\n",
    "        \"token\":\"TIME\",\n",
    "        \"contract\":\"0x136acd46c134e8269052c62a67042d6bdedde3c9\",\n",
    "        \"decimal\":9,\n",
    "        \"ids\":\"wonderland\"\n",
    "    },\n",
    "    {\n",
    "        \"chain\":\"AVAX\",\n",
    "        \"token\":\"SB\",\n",
    "        \"contract\":\"0xE9Eb40d52CE4744322204d4a29Af63C30f0260a4\",\n",
    "        \"decimal\":9,\n",
    "        \"ids\":\"snowbank\"\n",
    "    },\n",
    "    {\n",
    "        \"chain\":\"ONE\",\n",
    "        \"token\":\"RVRS\",\n",
    "        \"contract\":\"0xE9Eb40d52CE4744322204d4a29Af63C30f0260a4\",\n",
    "        \"decimal\":9,\n",
    "        \"numbers\":8.95,\n",
    "        \"staking\":266600/100,\n",
    "        \"starting\":1638032419,\n",
    "        \"ids\":\"reverse-protocol\"\n",
    "    },\n",
    "    {\n",
    "        \"chain\":\"ONE\",\n",
    "        \"token\":\"ODAO\",\n",
    "        \"contract\":\"0xE9Eb40d52CE4744322204d4a29Af63C30f0260a4\",\n",
    "        \"decimal\":9,\n",
    "        \"numbers\":0.003308,\n",
    "        \"staking\":1_400_000_000/100,\n",
    "        \"starting\":1638032419,\n",
    "        \"ids\":\"onedao-finance\"\n",
    "    },\n",
    "]"
   ]
  },
  {
   "cell_type": "code",
   "execution_count": 41,
   "metadata": {
    "scrolled": true
   },
   "outputs": [
    {
     "name": "stdout",
     "output_type": "stream",
     "text": [
      "TAC : 0.156696087 at price 107.87 egal 16.902806904690003\n",
      "XEUS : 0.072690848 at price 327.37 egal 23.79680290976\n",
      "SPA : 0.271823866 at price 168.54 egal 45.81319437564\n",
      "HEC : 0.134131092 at price 217.04 egal 29.11181220768\n",
      "EXOD : 0.008305197 at price 2088.45 egal 17.34498867465\n",
      "TIME : 0.007166967 at price 7576.01 egal 54.29701366167\n",
      "SB : 0.023761278666666667 at price 729.46 egal 17.332902336186667\n",
      "RVRS : 8.953853054789827 at price 1.15 egal 10.2969310130083\n",
      "ODAO : 0.0033109716716588394 at price 8741.19 egal 28.94183246658753\n",
      "\n",
      "Total : 243.83828454987253 $\n"
     ]
    }
   ],
   "source": [
    "result = 0\n",
    "for token in tokenList:\n",
    "    if token[\"chain\"] == \"ONE\":\n",
    "        numbers = token[\"numbers\"]*(token[\"staking\"]**((time.time()-token[\"starting\"])/(60*60*24*365)))\n",
    "    else:\n",
    "        if token[\"chain\"] == \"BSC\":\n",
    "            url = \"https://api.bscscan.com/api\"\n",
    "            api = env[\"BSCscan\"]\n",
    "        elif token[\"chain\"] == \"FTM\":\n",
    "            url = \"https://api.ftmscan.com/api\"\n",
    "            api = env[\"FTMscan\"]\n",
    "        else:\n",
    "            url = \"https://api.snowtrace.io/api\"\n",
    "            api = env[\"SNOWtrace\"]\n",
    "\n",
    "        dico = {\"module\":\"account\",\n",
    "            \"action\":\"tokenbalance\",\n",
    "            \"contractaddress\":token[\"contract\"],\n",
    "            \"address\":\"0x97A0bD28796621FAa6d168ee414B814b307517FF\",\n",
    "            \"tag\":\"latest\",\n",
    "            \"apikey\":api}\n",
    "        if proxy:\n",
    "            r = requests.get(url, params=dico, proxies=proxies)\n",
    "        else:\n",
    "            r = requests.get(url, params=dico)\n",
    "        numbers = int(r.json()[\"result\"])/(10**token[\"decimal\"])\n",
    "        if token[\"ids\"] == \"snowbank\":\n",
    "            numbers = numbers*2/3\n",
    "    dico = {\n",
    "        \"ids\":token[\"ids\"],\n",
    "        \"vs_currencies\":\"usd\"\n",
    "    }\n",
    "    r = requests.get(\n",
    "        \"https://api.coingecko.com/api/v3/simple/price\", \n",
    "        params=dico\n",
    "    )\n",
    "    price = r.json()[token[\"ids\"]][\"usd\"]\n",
    "    tt = numbers*price\n",
    "    result += tt\n",
    "    print(f\"\"\"{token[\"token\"]} : {numbers} at price {price} egal {tt}\"\"\")\n",
    "print()\n",
    "print(f\"Total : {result} $\")\n"
   ]
  },
  {
   "cell_type": "code",
   "execution_count": 42,
   "metadata": {},
   "outputs": [
    {
     "name": "stdout",
     "output_type": "stream",
     "text": [
      "4T : 48.767656909974505 $\n",
      "Gouillou : 34.13735983698216 $\n",
      "Couillet : 34.13735983698216 $\n",
      "Synold : 34.13735983698216 $\n",
      "Rigot : 34.13735983698216 $\n",
      "Djafri : 26.82221130048598 $\n",
      "Ferro : 21.945445609488527 $\n",
      "Pot : 7.315148536496175 $\n"
     ]
    }
   ],
   "source": [
    "repartition = [\n",
    "    (\"4T\", 0.2),\n",
    "    (\"Gouillou\", 0.14),\n",
    "    (\"Couillet\", 0.14),\n",
    "    (\"Synold\", 0.14),\n",
    "    (\"Rigot\", 0.14),\n",
    "    (\"Djafri\", 0.11),\n",
    "    (\"Ferro\", 0.09),\n",
    "    (\"Pot\", 0.03),\n",
    "]\n",
    "for name, taux in repartition:\n",
    "    print(f\"{name} : {taux*result} $\")"
   ]
  }
 ],
 "metadata": {
  "kernelspec": {
   "display_name": "Scientist",
   "language": "python",
   "name": "scientist"
  },
  "language_info": {
   "codemirror_mode": {
    "name": "ipython",
    "version": 3
   },
   "file_extension": ".py",
   "mimetype": "text/x-python",
   "name": "python",
   "nbconvert_exporter": "python",
   "pygments_lexer": "ipython3",
   "version": "3.8.10"
  },
  "toc": {
   "base_numbering": 1,
   "nav_menu": {},
   "number_sections": true,
   "sideBar": true,
   "skip_h1_title": true,
   "title_cell": "Table of Contents",
   "title_sidebar": "Contents",
   "toc_cell": false,
   "toc_position": {},
   "toc_section_display": true,
   "toc_window_display": false
  },
  "varInspector": {
   "cols": {
    "lenName": 16,
    "lenType": 16,
    "lenVar": 40
   },
   "kernels_config": {
    "python": {
     "delete_cmd_postfix": "",
     "delete_cmd_prefix": "del ",
     "library": "var_list.py",
     "varRefreshCmd": "print(var_dic_list())"
    },
    "r": {
     "delete_cmd_postfix": ") ",
     "delete_cmd_prefix": "rm(",
     "library": "var_list.r",
     "varRefreshCmd": "cat(var_dic_list()) "
    }
   },
   "types_to_exclude": [
    "module",
    "function",
    "builtin_function_or_method",
    "instance",
    "_Feature"
   ],
   "window_display": false
  }
 },
 "nbformat": 4,
 "nbformat_minor": 4
}
